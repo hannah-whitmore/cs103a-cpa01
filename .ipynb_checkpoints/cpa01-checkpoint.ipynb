{
 "cells": [
  {
   "cell_type": "code",
   "execution_count": 13,
   "metadata": {},
   "outputs": [],
   "source": [
    "import pandas as pd\n",
    "import numpy as np"
   ]
  },
  {
   "cell_type": "code",
   "execution_count": 14,
   "metadata": {},
   "outputs": [],
   "source": [
    "popular_moves = pd.read_csv('Top_10000_Movies.csv',  lineterminator='\\n')"
   ]
  },
  {
   "cell_type": "code",
   "execution_count": 15,
   "metadata": {},
   "outputs": [],
   "source": [
    "popular_moves_df = popular_moves.drop(\"Unnamed: 0\",axis=1)"
   ]
  },
  {
   "cell_type": "code",
   "execution_count": 16,
   "metadata": {},
   "outputs": [
    {
     "data": {
      "text/html": [
       "<div>\n",
       "<style scoped>\n",
       "    .dataframe tbody tr th:only-of-type {\n",
       "        vertical-align: middle;\n",
       "    }\n",
       "\n",
       "    .dataframe tbody tr th {\n",
       "        vertical-align: top;\n",
       "    }\n",
       "\n",
       "    .dataframe thead th {\n",
       "        text-align: right;\n",
       "    }\n",
       "</style>\n",
       "<table border=\"1\" class=\"dataframe\">\n",
       "  <thead>\n",
       "    <tr style=\"text-align: right;\">\n",
       "      <th></th>\n",
       "      <th>id</th>\n",
       "      <th>original_language</th>\n",
       "      <th>original_title</th>\n",
       "      <th>popularity</th>\n",
       "      <th>release_date</th>\n",
       "      <th>vote_average</th>\n",
       "      <th>vote_count</th>\n",
       "      <th>genre</th>\n",
       "      <th>overview</th>\n",
       "      <th>revenue</th>\n",
       "      <th>runtime</th>\n",
       "      <th>tagline</th>\n",
       "    </tr>\n",
       "  </thead>\n",
       "  <tbody>\n",
       "    <tr>\n",
       "      <th>0</th>\n",
       "      <td>580489</td>\n",
       "      <td>en</td>\n",
       "      <td>Venom: Let There Be Carnage</td>\n",
       "      <td>5401.308</td>\n",
       "      <td>2021-09-30</td>\n",
       "      <td>6.8</td>\n",
       "      <td>1736</td>\n",
       "      <td>['Science Fiction', 'Action', 'Adventure']</td>\n",
       "      <td>After finding a host body in investigative rep...</td>\n",
       "      <td>424000000</td>\n",
       "      <td>97.0</td>\n",
       "      <td>NaN</td>\n",
       "    </tr>\n",
       "    <tr>\n",
       "      <th>1</th>\n",
       "      <td>524434</td>\n",
       "      <td>en</td>\n",
       "      <td>Eternals</td>\n",
       "      <td>3365.535</td>\n",
       "      <td>2021-11-03</td>\n",
       "      <td>7.1</td>\n",
       "      <td>622</td>\n",
       "      <td>['Action', 'Adventure', 'Science Fiction', 'Fa...</td>\n",
       "      <td>The Eternals are a team of ancient aliens who ...</td>\n",
       "      <td>165000000</td>\n",
       "      <td>157.0</td>\n",
       "      <td>In the beginning...</td>\n",
       "    </tr>\n",
       "    <tr>\n",
       "      <th>2</th>\n",
       "      <td>438631</td>\n",
       "      <td>en</td>\n",
       "      <td>Dune</td>\n",
       "      <td>2911.423</td>\n",
       "      <td>2021-09-15</td>\n",
       "      <td>8.0</td>\n",
       "      <td>3632</td>\n",
       "      <td>['Action', 'Adventure', 'Science Fiction']</td>\n",
       "      <td>Paul Atreides, a brilliant and gifted young ma...</td>\n",
       "      <td>331116356</td>\n",
       "      <td>155.0</td>\n",
       "      <td>Beyond fear, destiny awaits.</td>\n",
       "    </tr>\n",
       "    <tr>\n",
       "      <th>3</th>\n",
       "      <td>796499</td>\n",
       "      <td>en</td>\n",
       "      <td>Army of Thieves</td>\n",
       "      <td>2552.437</td>\n",
       "      <td>2021-10-27</td>\n",
       "      <td>6.9</td>\n",
       "      <td>555</td>\n",
       "      <td>['Action', 'Crime', 'Thriller']</td>\n",
       "      <td>A mysterious woman recruits bank teller Ludwig...</td>\n",
       "      <td>0</td>\n",
       "      <td>127.0</td>\n",
       "      <td>Before Vegas, one locksmith became a legend.</td>\n",
       "    </tr>\n",
       "    <tr>\n",
       "      <th>4</th>\n",
       "      <td>550988</td>\n",
       "      <td>en</td>\n",
       "      <td>Free Guy</td>\n",
       "      <td>1850.470</td>\n",
       "      <td>2021-08-11</td>\n",
       "      <td>7.8</td>\n",
       "      <td>3493</td>\n",
       "      <td>['Comedy', 'Action', 'Adventure', 'Science Fic...</td>\n",
       "      <td>A bank teller called Guy realizes he is a back...</td>\n",
       "      <td>331096766</td>\n",
       "      <td>115.0</td>\n",
       "      <td>Life's too short to be a background character.</td>\n",
       "    </tr>\n",
       "  </tbody>\n",
       "</table>\n",
       "</div>"
      ],
      "text/plain": [
       "       id original_language               original_title  popularity  \\\n",
       "0  580489                en  Venom: Let There Be Carnage    5401.308   \n",
       "1  524434                en                     Eternals    3365.535   \n",
       "2  438631                en                         Dune    2911.423   \n",
       "3  796499                en              Army of Thieves    2552.437   \n",
       "4  550988                en                     Free Guy    1850.470   \n",
       "\n",
       "  release_date  vote_average  vote_count  \\\n",
       "0   2021-09-30           6.8        1736   \n",
       "1   2021-11-03           7.1         622   \n",
       "2   2021-09-15           8.0        3632   \n",
       "3   2021-10-27           6.9         555   \n",
       "4   2021-08-11           7.8        3493   \n",
       "\n",
       "                                               genre  \\\n",
       "0         ['Science Fiction', 'Action', 'Adventure']   \n",
       "1  ['Action', 'Adventure', 'Science Fiction', 'Fa...   \n",
       "2         ['Action', 'Adventure', 'Science Fiction']   \n",
       "3                    ['Action', 'Crime', 'Thriller']   \n",
       "4  ['Comedy', 'Action', 'Adventure', 'Science Fic...   \n",
       "\n",
       "                                            overview    revenue  runtime  \\\n",
       "0  After finding a host body in investigative rep...  424000000     97.0   \n",
       "1  The Eternals are a team of ancient aliens who ...  165000000    157.0   \n",
       "2  Paul Atreides, a brilliant and gifted young ma...  331116356    155.0   \n",
       "3  A mysterious woman recruits bank teller Ludwig...          0    127.0   \n",
       "4  A bank teller called Guy realizes he is a back...  331096766    115.0   \n",
       "\n",
       "                                          tagline  \n",
       "0                                             NaN  \n",
       "1                             In the beginning...  \n",
       "2                    Beyond fear, destiny awaits.  \n",
       "3    Before Vegas, one locksmith became a legend.  \n",
       "4  Life's too short to be a background character.  "
      ]
     },
     "execution_count": 16,
     "metadata": {},
     "output_type": "execute_result"
    }
   ],
   "source": [
    "popular_moves_df.head()"
   ]
  },
  {
   "cell_type": "markdown",
   "metadata": {},
   "source": [
    "## This dataset has information about the top 10000 Popular movies based on TMDB ratings."
   ]
  },
  {
   "cell_type": "markdown",
   "metadata": {},
   "source": [
    "### This dataset has following fields:"
   ]
  },
  {
   "cell_type": "markdown",
   "metadata": {},
   "source": [
    "#### `id: every movie has a unique ID` <br /><br />  `original_language`<br /><br />`original_title`<br /><br />`popularity: the bigger the number, the higher the popularity`<br /><br />`release_date`<br /><br />`vote_average`<br /><br />`vote_count`<br /><br />`genre`<br /><br />`overview`<br /><br />`revenue`<br /><br />`runtime: in minutes`<br /><br />`tagline`"
   ]
  },
  {
   "cell_type": "code",
   "execution_count": 19,
   "metadata": {},
   "outputs": [
    {
     "data": {
      "text/plain": [
       "10000"
      ]
     },
     "execution_count": 19,
     "metadata": {},
     "output_type": "execute_result"
    }
   ],
   "source": [
    "len(popular_moves_df)"
   ]
  },
  {
   "cell_type": "markdown",
   "metadata": {},
   "source": [
    "### URL to this dataset: https://www.kaggle.com/omkarborikar/top-10000-popular-movies\n",
    "### To download it, click the download button on the top right of the website"
   ]
  },
  {
   "cell_type": "markdown",
   "metadata": {},
   "source": [
    "### Some interesting questions we can answeer with this dataset: <br /><br /> 1) Are there genre(s) that tend to be more popular? <br /><br /> 2) Does a higher number of ratings correlate with higher revenue? <br /><br /> 3) Are there multiple movies with the same title or tagline? <br /><br /> 4) Does the movie with the highest revenue also have the highest popularity?  <br /><br /> 5) Is there an average runtime that tends to be the most successful (popularity, revenue, high ratings)?"
   ]
  },
  {
   "cell_type": "code",
   "execution_count": 8,
   "metadata": {},
   "outputs": [
    {
     "data": {
      "text/html": [
       "<div>\n",
       "<style scoped>\n",
       "    .dataframe tbody tr th:only-of-type {\n",
       "        vertical-align: middle;\n",
       "    }\n",
       "\n",
       "    .dataframe tbody tr th {\n",
       "        vertical-align: top;\n",
       "    }\n",
       "\n",
       "    .dataframe thead th {\n",
       "        text-align: right;\n",
       "    }\n",
       "</style>\n",
       "<table border=\"1\" class=\"dataframe\">\n",
       "  <thead>\n",
       "    <tr style=\"text-align: right;\">\n",
       "      <th></th>\n",
       "      <th>Unnamed: 0</th>\n",
       "      <th>id</th>\n",
       "      <th>original_language</th>\n",
       "      <th>original_title</th>\n",
       "      <th>popularity</th>\n",
       "      <th>release_date</th>\n",
       "      <th>vote_average</th>\n",
       "      <th>vote_count</th>\n",
       "      <th>genre</th>\n",
       "      <th>overview</th>\n",
       "      <th>revenue</th>\n",
       "      <th>runtime</th>\n",
       "      <th>tagline</th>\n",
       "    </tr>\n",
       "  </thead>\n",
       "  <tbody>\n",
       "    <tr>\n",
       "      <th>count</th>\n",
       "      <td>10000.00000</td>\n",
       "      <td>10000.0000</td>\n",
       "      <td>10000</td>\n",
       "      <td>10000</td>\n",
       "      <td>10000.000000</td>\n",
       "      <td>9962</td>\n",
       "      <td>10000.00000</td>\n",
       "      <td>10000.000000</td>\n",
       "      <td>10000</td>\n",
       "      <td>9900</td>\n",
       "      <td>1.000000e+04</td>\n",
       "      <td>9991.000000</td>\n",
       "      <td>7080</td>\n",
       "    </tr>\n",
       "    <tr>\n",
       "      <th>unique</th>\n",
       "      <td>NaN</td>\n",
       "      <td>NaN</td>\n",
       "      <td>47</td>\n",
       "      <td>9756</td>\n",
       "      <td>NaN</td>\n",
       "      <td>5727</td>\n",
       "      <td>NaN</td>\n",
       "      <td>NaN</td>\n",
       "      <td>2314</td>\n",
       "      <td>9895</td>\n",
       "      <td>NaN</td>\n",
       "      <td>NaN</td>\n",
       "      <td>7042</td>\n",
       "    </tr>\n",
       "    <tr>\n",
       "      <th>top</th>\n",
       "      <td>NaN</td>\n",
       "      <td>NaN</td>\n",
       "      <td>en</td>\n",
       "      <td>Venom</td>\n",
       "      <td>NaN</td>\n",
       "      <td>2021-11-11</td>\n",
       "      <td>NaN</td>\n",
       "      <td>NaN</td>\n",
       "      <td>['Drama']</td>\n",
       "      <td>Dr. Raichi is one of the only survivors of the...</td>\n",
       "      <td>NaN</td>\n",
       "      <td>NaN</td>\n",
       "      <td>Based on a true story.</td>\n",
       "    </tr>\n",
       "    <tr>\n",
       "      <th>freq</th>\n",
       "      <td>NaN</td>\n",
       "      <td>NaN</td>\n",
       "      <td>7798</td>\n",
       "      <td>5</td>\n",
       "      <td>NaN</td>\n",
       "      <td>51</td>\n",
       "      <td>NaN</td>\n",
       "      <td>NaN</td>\n",
       "      <td>533</td>\n",
       "      <td>2</td>\n",
       "      <td>NaN</td>\n",
       "      <td>NaN</td>\n",
       "      <td>4</td>\n",
       "    </tr>\n",
       "    <tr>\n",
       "      <th>mean</th>\n",
       "      <td>4999.50000</td>\n",
       "      <td>250053.0833</td>\n",
       "      <td>NaN</td>\n",
       "      <td>NaN</td>\n",
       "      <td>34.516871</td>\n",
       "      <td>NaN</td>\n",
       "      <td>6.29875</td>\n",
       "      <td>1315.084900</td>\n",
       "      <td>NaN</td>\n",
       "      <td>NaN</td>\n",
       "      <td>5.736388e+07</td>\n",
       "      <td>98.773596</td>\n",
       "      <td>NaN</td>\n",
       "    </tr>\n",
       "    <tr>\n",
       "      <th>std</th>\n",
       "      <td>2886.89568</td>\n",
       "      <td>261734.6183</td>\n",
       "      <td>NaN</td>\n",
       "      <td>NaN</td>\n",
       "      <td>100.693958</td>\n",
       "      <td>NaN</td>\n",
       "      <td>1.43426</td>\n",
       "      <td>2501.899103</td>\n",
       "      <td>NaN</td>\n",
       "      <td>NaN</td>\n",
       "      <td>1.480771e+08</td>\n",
       "      <td>28.800581</td>\n",
       "      <td>NaN</td>\n",
       "    </tr>\n",
       "    <tr>\n",
       "      <th>min</th>\n",
       "      <td>0.00000</td>\n",
       "      <td>5.0000</td>\n",
       "      <td>NaN</td>\n",
       "      <td>NaN</td>\n",
       "      <td>6.269000</td>\n",
       "      <td>NaN</td>\n",
       "      <td>0.00000</td>\n",
       "      <td>0.000000</td>\n",
       "      <td>NaN</td>\n",
       "      <td>NaN</td>\n",
       "      <td>0.000000e+00</td>\n",
       "      <td>0.000000</td>\n",
       "      <td>NaN</td>\n",
       "    </tr>\n",
       "    <tr>\n",
       "      <th>25%</th>\n",
       "      <td>2499.75000</td>\n",
       "      <td>11866.7500</td>\n",
       "      <td>NaN</td>\n",
       "      <td>NaN</td>\n",
       "      <td>11.908000</td>\n",
       "      <td>NaN</td>\n",
       "      <td>5.90000</td>\n",
       "      <td>118.000000</td>\n",
       "      <td>NaN</td>\n",
       "      <td>NaN</td>\n",
       "      <td>0.000000e+00</td>\n",
       "      <td>89.000000</td>\n",
       "      <td>NaN</td>\n",
       "    </tr>\n",
       "    <tr>\n",
       "      <th>50%</th>\n",
       "      <td>4999.50000</td>\n",
       "      <td>144476.0000</td>\n",
       "      <td>NaN</td>\n",
       "      <td>NaN</td>\n",
       "      <td>17.488000</td>\n",
       "      <td>NaN</td>\n",
       "      <td>6.50000</td>\n",
       "      <td>425.500000</td>\n",
       "      <td>NaN</td>\n",
       "      <td>NaN</td>\n",
       "      <td>5.912300e+05</td>\n",
       "      <td>99.000000</td>\n",
       "      <td>NaN</td>\n",
       "    </tr>\n",
       "    <tr>\n",
       "      <th>75%</th>\n",
       "      <td>7499.25000</td>\n",
       "      <td>451485.0000</td>\n",
       "      <td>NaN</td>\n",
       "      <td>NaN</td>\n",
       "      <td>29.626250</td>\n",
       "      <td>NaN</td>\n",
       "      <td>7.10000</td>\n",
       "      <td>1297.250000</td>\n",
       "      <td>NaN</td>\n",
       "      <td>NaN</td>\n",
       "      <td>4.764549e+07</td>\n",
       "      <td>113.000000</td>\n",
       "      <td>NaN</td>\n",
       "    </tr>\n",
       "    <tr>\n",
       "      <th>max</th>\n",
       "      <td>9999.00000</td>\n",
       "      <td>893478.0000</td>\n",
       "      <td>NaN</td>\n",
       "      <td>NaN</td>\n",
       "      <td>5401.308000</td>\n",
       "      <td>NaN</td>\n",
       "      <td>9.50000</td>\n",
       "      <td>30184.000000</td>\n",
       "      <td>NaN</td>\n",
       "      <td>NaN</td>\n",
       "      <td>2.847246e+09</td>\n",
       "      <td>400.000000</td>\n",
       "      <td>NaN</td>\n",
       "    </tr>\n",
       "  </tbody>\n",
       "</table>\n",
       "</div>"
      ],
      "text/plain": [
       "         Unnamed: 0           id original_language original_title  \\\n",
       "count   10000.00000   10000.0000             10000          10000   \n",
       "unique          NaN          NaN                47           9756   \n",
       "top             NaN          NaN                en          Venom   \n",
       "freq            NaN          NaN              7798              5   \n",
       "mean     4999.50000  250053.0833               NaN            NaN   \n",
       "std      2886.89568  261734.6183               NaN            NaN   \n",
       "min         0.00000       5.0000               NaN            NaN   \n",
       "25%      2499.75000   11866.7500               NaN            NaN   \n",
       "50%      4999.50000  144476.0000               NaN            NaN   \n",
       "75%      7499.25000  451485.0000               NaN            NaN   \n",
       "max      9999.00000  893478.0000               NaN            NaN   \n",
       "\n",
       "          popularity release_date  vote_average    vote_count      genre  \\\n",
       "count   10000.000000         9962   10000.00000  10000.000000      10000   \n",
       "unique           NaN         5727           NaN           NaN       2314   \n",
       "top              NaN   2021-11-11           NaN           NaN  ['Drama']   \n",
       "freq             NaN           51           NaN           NaN        533   \n",
       "mean       34.516871          NaN       6.29875   1315.084900        NaN   \n",
       "std       100.693958          NaN       1.43426   2501.899103        NaN   \n",
       "min         6.269000          NaN       0.00000      0.000000        NaN   \n",
       "25%        11.908000          NaN       5.90000    118.000000        NaN   \n",
       "50%        17.488000          NaN       6.50000    425.500000        NaN   \n",
       "75%        29.626250          NaN       7.10000   1297.250000        NaN   \n",
       "max      5401.308000          NaN       9.50000  30184.000000        NaN   \n",
       "\n",
       "                                                 overview       revenue  \\\n",
       "count                                                9900  1.000000e+04   \n",
       "unique                                               9895           NaN   \n",
       "top     Dr. Raichi is one of the only survivors of the...           NaN   \n",
       "freq                                                    2           NaN   \n",
       "mean                                                  NaN  5.736388e+07   \n",
       "std                                                   NaN  1.480771e+08   \n",
       "min                                                   NaN  0.000000e+00   \n",
       "25%                                                   NaN  0.000000e+00   \n",
       "50%                                                   NaN  5.912300e+05   \n",
       "75%                                                   NaN  4.764549e+07   \n",
       "max                                                   NaN  2.847246e+09   \n",
       "\n",
       "            runtime                 tagline  \n",
       "count   9991.000000                    7080  \n",
       "unique          NaN                    7042  \n",
       "top             NaN  Based on a true story.  \n",
       "freq            NaN                       4  \n",
       "mean      98.773596                     NaN  \n",
       "std       28.800581                     NaN  \n",
       "min        0.000000                     NaN  \n",
       "25%       89.000000                     NaN  \n",
       "50%       99.000000                     NaN  \n",
       "75%      113.000000                     NaN  \n",
       "max      400.000000                     NaN  "
      ]
     },
     "execution_count": 8,
     "metadata": {},
     "output_type": "execute_result"
    }
   ],
   "source": [
    "popular_moves_df.describe(include='all') "
   ]
  },
  {
   "cell_type": "markdown",
   "metadata": {},
   "source": [
    "### `array of columns`"
   ]
  },
  {
   "cell_type": "code",
   "execution_count": 9,
   "metadata": {},
   "outputs": [
    {
     "data": {
      "text/plain": [
       "Index(['Unnamed: 0', 'id', 'original_language', 'original_title', 'popularity',\n",
       "       'release_date', 'vote_average', 'vote_count', 'genre', 'overview',\n",
       "       'revenue', 'runtime', 'tagline'],\n",
       "      dtype='object')"
      ]
     },
     "execution_count": 9,
     "metadata": {},
     "output_type": "execute_result"
    }
   ],
   "source": [
    "popular_moves_df.columns"
   ]
  },
  {
   "cell_type": "markdown",
   "metadata": {},
   "source": [
    "### `index array`"
   ]
  },
  {
   "cell_type": "code",
   "execution_count": 10,
   "metadata": {},
   "outputs": [
    {
     "data": {
      "text/plain": [
       "<PandasArray>\n",
       "[   0,    1,    2,    3,    4,    5,    6,    7,    8,    9,\n",
       " ...\n",
       " 9990, 9991, 9992, 9993, 9994, 9995, 9996, 9997, 9998, 9999]\n",
       "Length: 10000, dtype: int64"
      ]
     },
     "execution_count": 10,
     "metadata": {},
     "output_type": "execute_result"
    }
   ],
   "source": [
    "popular_moves_df.index.array"
   ]
  },
  {
   "cell_type": "markdown",
   "metadata": {},
   "source": [
    "### `plot`"
   ]
  },
  {
   "cell_type": "markdown",
   "metadata": {},
   "source": [
    "### `pivot table`"
   ]
  },
  {
   "cell_type": "markdown",
   "metadata": {},
   "source": [
    "### `groupby`"
   ]
  },
  {
   "cell_type": "markdown",
   "metadata": {},
   "source": [
    "### `discussion`"
   ]
  },
  {
   "cell_type": "code",
   "execution_count": null,
   "metadata": {},
   "outputs": [],
   "source": []
  }
 ],
 "metadata": {
  "kernelspec": {
   "display_name": "Python 3",
   "language": "python",
   "name": "python3"
  },
  "language_info": {
   "codemirror_mode": {
    "name": "ipython",
    "version": 3
   },
   "file_extension": ".py",
   "mimetype": "text/x-python",
   "name": "python",
   "nbconvert_exporter": "python",
   "pygments_lexer": "ipython3",
   "version": "3.8.5"
  }
 },
 "nbformat": 4,
 "nbformat_minor": 4
}
