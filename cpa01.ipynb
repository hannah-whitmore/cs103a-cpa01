{
 "cells": [
  {
   "cell_type": "code",
   "execution_count": 1,
   "metadata": {},
   "outputs": [],
   "source": [
    "import pandas as pd\n",
    "import numpy as np\n",
    "import matplotlib.pyplot as plt"
   ]
  },
  {
   "cell_type": "markdown",
   "metadata": {},
   "source": [
    "### `Load dataset and do some inital cleaning`"
   ]
  },
  {
   "cell_type": "code",
   "execution_count": 2,
   "metadata": {},
   "outputs": [],
   "source": [
    "popular_moves = pd.read_csv('Top_10000_Movies.csv',  lineterminator='\\n')"
   ]
  },
  {
   "cell_type": "code",
   "execution_count": 3,
   "metadata": {},
   "outputs": [],
   "source": [
    "popular_moves_df = popular_moves.drop(\"Unnamed: 0\",axis=1)\n",
    "popular_moves_df = popular_moves_df.fillna(0)"
   ]
  },
  {
   "cell_type": "markdown",
   "metadata": {},
   "source": [
    "#### will be easier to work with the date in datetime format and with a year column"
   ]
  },
  {
   "cell_type": "code",
   "execution_count": 4,
   "metadata": {},
   "outputs": [],
   "source": [
    "popular_moves_df['release_date'] =  pd.to_datetime(popular_moves_df['release_date'])\n",
    "popular_moves_df['year'] = popular_moves_df['release_date'].dt.year.astype(int)"
   ]
  },
  {
   "cell_type": "markdown",
   "metadata": {},
   "source": [
    "## This dataset has information about the top 10,000 Popular movies based on IMDB ratings."
   ]
  },
  {
   "cell_type": "markdown",
   "metadata": {},
   "source": [
    "### The dataset has following fields:"
   ]
  },
  {
   "cell_type": "markdown",
   "metadata": {},
   "source": [
    "#### `id: every movie has a unique ID` <br /><br />  `original_language`<br /><br />`original_title`<br /><br />`popularity: the bigger the number, the higher the popularity`<br /><br />`release_date`<br /><br />`vote_average`<br /><br />`vote_count`<br /><br />`genre`<br /><br />`overview`<br /><br />`revenue`<br /><br />`runtime: in minutes`<br /><br />`tagline`"
   ]
  },
  {
   "cell_type": "code",
   "execution_count": 5,
   "metadata": {},
   "outputs": [
    {
     "data": {
      "text/plain": [
       "10000"
      ]
     },
     "execution_count": 5,
     "metadata": {},
     "output_type": "execute_result"
    }
   ],
   "source": [
    "len(popular_moves_df)"
   ]
  },
  {
   "cell_type": "markdown",
   "metadata": {},
   "source": [
    "### URL to this dataset: https://www.kaggle.com/omkarborikar/top-10000-popular-movies\n",
    "### To download it, click the download button on the top right of the website"
   ]
  },
  {
   "cell_type": "markdown",
   "metadata": {},
   "source": [
    "### Some interesting questions we can answeer with this dataset: <br /><br /> 1) Are there genre(s) that tend to be more popular? <br /><br /> 2) Does a higher number of ratings correlate with higher revenue? <br /><br /> 3) Are there multiple movies with the same title? <br /><br /> 4) Does the movie with the highest revenue also have the highest popularity?  <br /><br /> 5) Since this data is taken from the American IMDB website, after English, what other original languages of movies are most popular?"
   ]
  },
  {
   "cell_type": "markdown",
   "metadata": {},
   "source": [
    "#### for instance, to answer question #3: "
   ]
  },
  {
   "cell_type": "code",
   "execution_count": 6,
   "metadata": {},
   "outputs": [
    {
     "data": {
      "text/plain": [
       "9756"
      ]
     },
     "execution_count": 6,
     "metadata": {},
     "output_type": "execute_result"
    }
   ],
   "source": [
    "popular_moves_df['original_title'].nunique()"
   ]
  },
  {
   "cell_type": "markdown",
   "metadata": {},
   "source": [
    "#### there are 244 movies in this dataset that share the same name."
   ]
  },
  {
   "cell_type": "markdown",
   "metadata": {},
   "source": [
    "### `describe the dataset`"
   ]
  },
  {
   "cell_type": "code",
   "execution_count": 7,
   "metadata": {
    "scrolled": true
   },
   "outputs": [
    {
     "data": {
      "text/html": [
       "<div>\n",
       "<style scoped>\n",
       "    .dataframe tbody tr th:only-of-type {\n",
       "        vertical-align: middle;\n",
       "    }\n",
       "\n",
       "    .dataframe tbody tr th {\n",
       "        vertical-align: top;\n",
       "    }\n",
       "\n",
       "    .dataframe thead th {\n",
       "        text-align: right;\n",
       "    }\n",
       "</style>\n",
       "<table border=\"1\" class=\"dataframe\">\n",
       "  <thead>\n",
       "    <tr style=\"text-align: right;\">\n",
       "      <th></th>\n",
       "      <th>id</th>\n",
       "      <th>popularity</th>\n",
       "      <th>vote_average</th>\n",
       "      <th>vote_count</th>\n",
       "      <th>revenue</th>\n",
       "      <th>runtime</th>\n",
       "      <th>year</th>\n",
       "    </tr>\n",
       "  </thead>\n",
       "  <tbody>\n",
       "    <tr>\n",
       "      <th>count</th>\n",
       "      <td>10000.0000</td>\n",
       "      <td>10000.000000</td>\n",
       "      <td>10000.00000</td>\n",
       "      <td>10000.000000</td>\n",
       "      <td>1.000000e+04</td>\n",
       "      <td>10000.0000</td>\n",
       "      <td>10000.000000</td>\n",
       "    </tr>\n",
       "    <tr>\n",
       "      <th>mean</th>\n",
       "      <td>250053.0833</td>\n",
       "      <td>34.516871</td>\n",
       "      <td>6.29875</td>\n",
       "      <td>1315.084900</td>\n",
       "      <td>5.736388e+07</td>\n",
       "      <td>98.6847</td>\n",
       "      <td>2007.376000</td>\n",
       "    </tr>\n",
       "    <tr>\n",
       "      <th>std</th>\n",
       "      <td>261734.6183</td>\n",
       "      <td>100.693958</td>\n",
       "      <td>1.43426</td>\n",
       "      <td>2501.899103</td>\n",
       "      <td>1.480771e+08</td>\n",
       "      <td>28.9396</td>\n",
       "      <td>14.818339</td>\n",
       "    </tr>\n",
       "    <tr>\n",
       "      <th>min</th>\n",
       "      <td>5.0000</td>\n",
       "      <td>6.269000</td>\n",
       "      <td>0.00000</td>\n",
       "      <td>0.000000</td>\n",
       "      <td>0.000000e+00</td>\n",
       "      <td>0.0000</td>\n",
       "      <td>1902.000000</td>\n",
       "    </tr>\n",
       "    <tr>\n",
       "      <th>25%</th>\n",
       "      <td>11866.7500</td>\n",
       "      <td>11.908000</td>\n",
       "      <td>5.90000</td>\n",
       "      <td>118.000000</td>\n",
       "      <td>0.000000e+00</td>\n",
       "      <td>89.0000</td>\n",
       "      <td>2002.000000</td>\n",
       "    </tr>\n",
       "    <tr>\n",
       "      <th>50%</th>\n",
       "      <td>144476.0000</td>\n",
       "      <td>17.488000</td>\n",
       "      <td>6.50000</td>\n",
       "      <td>425.500000</td>\n",
       "      <td>5.912300e+05</td>\n",
       "      <td>99.0000</td>\n",
       "      <td>2012.000000</td>\n",
       "    </tr>\n",
       "    <tr>\n",
       "      <th>75%</th>\n",
       "      <td>451485.0000</td>\n",
       "      <td>29.626250</td>\n",
       "      <td>7.10000</td>\n",
       "      <td>1297.250000</td>\n",
       "      <td>4.764549e+07</td>\n",
       "      <td>113.0000</td>\n",
       "      <td>2018.000000</td>\n",
       "    </tr>\n",
       "    <tr>\n",
       "      <th>max</th>\n",
       "      <td>893478.0000</td>\n",
       "      <td>5401.308000</td>\n",
       "      <td>9.50000</td>\n",
       "      <td>30184.000000</td>\n",
       "      <td>2.847246e+09</td>\n",
       "      <td>400.0000</td>\n",
       "      <td>2028.000000</td>\n",
       "    </tr>\n",
       "  </tbody>\n",
       "</table>\n",
       "</div>"
      ],
      "text/plain": [
       "                id    popularity  vote_average    vote_count       revenue  \\\n",
       "count   10000.0000  10000.000000   10000.00000  10000.000000  1.000000e+04   \n",
       "mean   250053.0833     34.516871       6.29875   1315.084900  5.736388e+07   \n",
       "std    261734.6183    100.693958       1.43426   2501.899103  1.480771e+08   \n",
       "min         5.0000      6.269000       0.00000      0.000000  0.000000e+00   \n",
       "25%     11866.7500     11.908000       5.90000    118.000000  0.000000e+00   \n",
       "50%    144476.0000     17.488000       6.50000    425.500000  5.912300e+05   \n",
       "75%    451485.0000     29.626250       7.10000   1297.250000  4.764549e+07   \n",
       "max    893478.0000   5401.308000       9.50000  30184.000000  2.847246e+09   \n",
       "\n",
       "          runtime          year  \n",
       "count  10000.0000  10000.000000  \n",
       "mean      98.6847   2007.376000  \n",
       "std       28.9396     14.818339  \n",
       "min        0.0000   1902.000000  \n",
       "25%       89.0000   2002.000000  \n",
       "50%       99.0000   2012.000000  \n",
       "75%      113.0000   2018.000000  \n",
       "max      400.0000   2028.000000  "
      ]
     },
     "execution_count": 7,
     "metadata": {},
     "output_type": "execute_result"
    }
   ],
   "source": [
    "popular_moves_df.describe()"
   ]
  },
  {
   "cell_type": "markdown",
   "metadata": {},
   "source": [
    "### `array of columns`"
   ]
  },
  {
   "cell_type": "code",
   "execution_count": 8,
   "metadata": {
    "scrolled": true
   },
   "outputs": [
    {
     "data": {
      "text/plain": [
       "Index(['id', 'original_language', 'original_title', 'popularity',\n",
       "       'release_date', 'vote_average', 'vote_count', 'genre', 'overview',\n",
       "       'revenue', 'runtime', 'tagline', 'year'],\n",
       "      dtype='object')"
      ]
     },
     "execution_count": 8,
     "metadata": {},
     "output_type": "execute_result"
    }
   ],
   "source": [
    "popular_moves_df.columns"
   ]
  },
  {
   "cell_type": "markdown",
   "metadata": {},
   "source": [
    "### `index array`"
   ]
  },
  {
   "cell_type": "code",
   "execution_count": 9,
   "metadata": {
    "scrolled": false
   },
   "outputs": [
    {
     "data": {
      "text/plain": [
       "<PandasArray>\n",
       "[   0,    1,    2,    3,    4,    5,    6,    7,    8,    9,\n",
       " ...\n",
       " 9990, 9991, 9992, 9993, 9994, 9995, 9996, 9997, 9998, 9999]\n",
       "Length: 10000, dtype: int64"
      ]
     },
     "execution_count": 9,
     "metadata": {},
     "output_type": "execute_result"
    }
   ],
   "source": [
    "popular_moves_df.index.array"
   ]
  },
  {
   "cell_type": "markdown",
   "metadata": {},
   "source": [
    "### `plot`"
   ]
  },
  {
   "cell_type": "code",
   "execution_count": 10,
   "metadata": {},
   "outputs": [
    {
     "data": {
      "image/png": "[encoded data removed]",
      "text/plain": [
       "<Figure size 864x360 with 1 Axes>"
      ]
     },
     "metadata": {
      "needs_background": "light"
     },
     "output_type": "display_data"
    }
   ],
   "source": [
    "fig = plt.figure(figsize = (12, 5))\n",
    "plt.xlabel(\"Movie Original Language\", size=15)\n",
    "plt.ylabel(\"Popularity\", size =15)\n",
    "plt.title(\"Popularity of top 10k IMDB Movies by Original Language\", size=15)\n",
    "lang = list(popular_moves_df['original_language'])\n",
    "pop = list(popular_moves_df['popularity'])\n",
    "plt.xticks(fontsize=14, rotation=90)\n",
    "plt.yticks(fontsize=14)\n",
    "plt.bar(lang, pop)\n",
    "plt.show()"
   ]
  },
  {
   "cell_type": "markdown",
   "metadata": {},
   "source": [
    "### filter out english to get a better look at the other original languages"
   ]
  },
  {
   "cell_type": "code",
   "execution_count": 11,
   "metadata": {},
   "outputs": [],
   "source": [
    "without_english = popular_moves_df[popular_moves_df['original_language']!='en']"
   ]
  },
  {
   "cell_type": "code",
   "execution_count": 12,
   "metadata": {},
   "outputs": [],
   "source": [
    "without_english_df = without_english.sort_values('popularity', ascending=False)"
   ]
  },
  {
   "cell_type": "code",
   "execution_count": 13,
   "metadata": {},
   "outputs": [
    {
     "data": {
      "image/png": "[encoded data removed]",
      "text/plain": [
       "<Figure size 864x360 with 1 Axes>"
      ]
     },
     "metadata": {
      "needs_background": "light"
     },
     "output_type": "display_data"
    }
   ],
   "source": [
    "fig = plt.figure(figsize = (12, 5))\n",
    "plt.xlabel(\"Movie Original Language\", size=15)\n",
    "plt.ylabel(\"Popularity\", size =15)\n",
    "plt.title(\"Popularity of top 10k IMDB Movies by Original Language Excluding English\", size=15)\n",
    "lang = list(without_english_df['original_language'])\n",
    "pop = list(without_english_df['popularity'])\n",
    "plt.xticks(fontsize=14, rotation=90)\n",
    "plt.yticks(fontsize=14)\n",
    "plt.bar(lang, pop)\n",
    "plt.show()"
   ]
  },
  {
   "cell_type": "code",
   "execution_count": 15,
   "metadata": {},
   "outputs": [
    {
     "data": {
      "text/plain": [
       "<AxesSubplot:>"
      ]
     },
     "execution_count": 15,
     "metadata": {},
     "output_type": "execute_result"
    },
    {
     "data": {
      "image/png": "[encoded data removed]",
      "text/plain": [
       "<Figure size 432x288 with 1 Axes>"
      ]
     },
     "metadata": {
      "needs_background": "light"
     },
     "output_type": "display_data"
    }
   ],
   "source": [
    "popular_moves_df['release_date'].hist()"
   ]
  },
  {
   "cell_type": "markdown",
   "metadata": {},
   "source": [
    "### `pivot table and plot`"
   ]
  },
  {
   "cell_type": "code",
   "execution_count": 16,
   "metadata": {
    "scrolled": false
   },
   "outputs": [
    {
     "data": {
      "text/html": [
       "<div>\n",
       "<style scoped>\n",
       "    .dataframe tbody tr th:only-of-type {\n",
       "        vertical-align: middle;\n",
       "    }\n",
       "\n",
       "    .dataframe tbody tr th {\n",
       "        vertical-align: top;\n",
       "    }\n",
       "\n",
       "    .dataframe thead th {\n",
       "        text-align: right;\n",
       "    }\n",
       "</style>\n",
       "<table border=\"1\" class=\"dataframe\">\n",
       "  <thead>\n",
       "    <tr style=\"text-align: right;\">\n",
       "      <th>original_language</th>\n",
       "      <th>ar</th>\n",
       "      <th>be</th>\n",
       "      <th>bn</th>\n",
       "      <th>ca</th>\n",
       "      <th>cn</th>\n",
       "      <th>cs</th>\n",
       "      <th>da</th>\n",
       "      <th>de</th>\n",
       "      <th>el</th>\n",
       "      <th>en</th>\n",
       "      <th>...</th>\n",
       "      <th>sr</th>\n",
       "      <th>sv</th>\n",
       "      <th>ta</th>\n",
       "      <th>te</th>\n",
       "      <th>th</th>\n",
       "      <th>tl</th>\n",
       "      <th>tr</th>\n",
       "      <th>uk</th>\n",
       "      <th>ur</th>\n",
       "      <th>zh</th>\n",
       "    </tr>\n",
       "    <tr>\n",
       "      <th>year</th>\n",
       "      <th></th>\n",
       "      <th></th>\n",
       "      <th></th>\n",
       "      <th></th>\n",
       "      <th></th>\n",
       "      <th></th>\n",
       "      <th></th>\n",
       "      <th></th>\n",
       "      <th></th>\n",
       "      <th></th>\n",
       "      <th></th>\n",
       "      <th></th>\n",
       "      <th></th>\n",
       "      <th></th>\n",
       "      <th></th>\n",
       "      <th></th>\n",
       "      <th></th>\n",
       "      <th></th>\n",
       "      <th></th>\n",
       "      <th></th>\n",
       "      <th></th>\n",
       "    </tr>\n",
       "  </thead>\n",
       "  <tbody>\n",
       "    <tr>\n",
       "      <th>1902</th>\n",
       "      <td>NaN</td>\n",
       "      <td>NaN</td>\n",
       "      <td>NaN</td>\n",
       "      <td>NaN</td>\n",
       "      <td>NaN</td>\n",
       "      <td>NaN</td>\n",
       "      <td>NaN</td>\n",
       "      <td>NaN</td>\n",
       "      <td>NaN</td>\n",
       "      <td>NaN</td>\n",
       "      <td>...</td>\n",
       "      <td>NaN</td>\n",
       "      <td>NaN</td>\n",
       "      <td>NaN</td>\n",
       "      <td>NaN</td>\n",
       "      <td>NaN</td>\n",
       "      <td>NaN</td>\n",
       "      <td>NaN</td>\n",
       "      <td>NaN</td>\n",
       "      <td>NaN</td>\n",
       "      <td>NaN</td>\n",
       "    </tr>\n",
       "    <tr>\n",
       "      <th>1920</th>\n",
       "      <td>NaN</td>\n",
       "      <td>NaN</td>\n",
       "      <td>NaN</td>\n",
       "      <td>NaN</td>\n",
       "      <td>NaN</td>\n",
       "      <td>NaN</td>\n",
       "      <td>NaN</td>\n",
       "      <td>9.258</td>\n",
       "      <td>NaN</td>\n",
       "      <td>NaN</td>\n",
       "      <td>...</td>\n",
       "      <td>NaN</td>\n",
       "      <td>NaN</td>\n",
       "      <td>NaN</td>\n",
       "      <td>NaN</td>\n",
       "      <td>NaN</td>\n",
       "      <td>NaN</td>\n",
       "      <td>NaN</td>\n",
       "      <td>NaN</td>\n",
       "      <td>NaN</td>\n",
       "      <td>NaN</td>\n",
       "    </tr>\n",
       "    <tr>\n",
       "      <th>1922</th>\n",
       "      <td>NaN</td>\n",
       "      <td>NaN</td>\n",
       "      <td>NaN</td>\n",
       "      <td>NaN</td>\n",
       "      <td>NaN</td>\n",
       "      <td>NaN</td>\n",
       "      <td>NaN</td>\n",
       "      <td>12.428</td>\n",
       "      <td>NaN</td>\n",
       "      <td>9.528000</td>\n",
       "      <td>...</td>\n",
       "      <td>NaN</td>\n",
       "      <td>NaN</td>\n",
       "      <td>NaN</td>\n",
       "      <td>NaN</td>\n",
       "      <td>NaN</td>\n",
       "      <td>NaN</td>\n",
       "      <td>NaN</td>\n",
       "      <td>NaN</td>\n",
       "      <td>NaN</td>\n",
       "      <td>NaN</td>\n",
       "    </tr>\n",
       "    <tr>\n",
       "      <th>1923</th>\n",
       "      <td>NaN</td>\n",
       "      <td>NaN</td>\n",
       "      <td>NaN</td>\n",
       "      <td>NaN</td>\n",
       "      <td>NaN</td>\n",
       "      <td>NaN</td>\n",
       "      <td>NaN</td>\n",
       "      <td>NaN</td>\n",
       "      <td>NaN</td>\n",
       "      <td>10.377000</td>\n",
       "      <td>...</td>\n",
       "      <td>NaN</td>\n",
       "      <td>NaN</td>\n",
       "      <td>NaN</td>\n",
       "      <td>NaN</td>\n",
       "      <td>NaN</td>\n",
       "      <td>NaN</td>\n",
       "      <td>NaN</td>\n",
       "      <td>NaN</td>\n",
       "      <td>NaN</td>\n",
       "      <td>NaN</td>\n",
       "    </tr>\n",
       "    <tr>\n",
       "      <th>1924</th>\n",
       "      <td>NaN</td>\n",
       "      <td>NaN</td>\n",
       "      <td>NaN</td>\n",
       "      <td>NaN</td>\n",
       "      <td>NaN</td>\n",
       "      <td>NaN</td>\n",
       "      <td>NaN</td>\n",
       "      <td>NaN</td>\n",
       "      <td>NaN</td>\n",
       "      <td>10.763000</td>\n",
       "      <td>...</td>\n",
       "      <td>NaN</td>\n",
       "      <td>NaN</td>\n",
       "      <td>NaN</td>\n",
       "      <td>NaN</td>\n",
       "      <td>NaN</td>\n",
       "      <td>NaN</td>\n",
       "      <td>NaN</td>\n",
       "      <td>NaN</td>\n",
       "      <td>NaN</td>\n",
       "      <td>NaN</td>\n",
       "    </tr>\n",
       "    <tr>\n",
       "      <th>...</th>\n",
       "      <td>...</td>\n",
       "      <td>...</td>\n",
       "      <td>...</td>\n",
       "      <td>...</td>\n",
       "      <td>...</td>\n",
       "      <td>...</td>\n",
       "      <td>...</td>\n",
       "      <td>...</td>\n",
       "      <td>...</td>\n",
       "      <td>...</td>\n",
       "      <td>...</td>\n",
       "      <td>...</td>\n",
       "      <td>...</td>\n",
       "      <td>...</td>\n",
       "      <td>...</td>\n",
       "      <td>...</td>\n",
       "      <td>...</td>\n",
       "      <td>...</td>\n",
       "      <td>...</td>\n",
       "      <td>...</td>\n",
       "      <td>...</td>\n",
       "    </tr>\n",
       "    <tr>\n",
       "      <th>2022</th>\n",
       "      <td>NaN</td>\n",
       "      <td>NaN</td>\n",
       "      <td>NaN</td>\n",
       "      <td>NaN</td>\n",
       "      <td>NaN</td>\n",
       "      <td>NaN</td>\n",
       "      <td>NaN</td>\n",
       "      <td>NaN</td>\n",
       "      <td>NaN</td>\n",
       "      <td>37.526935</td>\n",
       "      <td>...</td>\n",
       "      <td>NaN</td>\n",
       "      <td>NaN</td>\n",
       "      <td>NaN</td>\n",
       "      <td>NaN</td>\n",
       "      <td>NaN</td>\n",
       "      <td>NaN</td>\n",
       "      <td>NaN</td>\n",
       "      <td>NaN</td>\n",
       "      <td>NaN</td>\n",
       "      <td>NaN</td>\n",
       "    </tr>\n",
       "    <tr>\n",
       "      <th>2023</th>\n",
       "      <td>NaN</td>\n",
       "      <td>NaN</td>\n",
       "      <td>NaN</td>\n",
       "      <td>NaN</td>\n",
       "      <td>NaN</td>\n",
       "      <td>NaN</td>\n",
       "      <td>NaN</td>\n",
       "      <td>NaN</td>\n",
       "      <td>NaN</td>\n",
       "      <td>42.126625</td>\n",
       "      <td>...</td>\n",
       "      <td>NaN</td>\n",
       "      <td>NaN</td>\n",
       "      <td>NaN</td>\n",
       "      <td>NaN</td>\n",
       "      <td>NaN</td>\n",
       "      <td>NaN</td>\n",
       "      <td>NaN</td>\n",
       "      <td>NaN</td>\n",
       "      <td>NaN</td>\n",
       "      <td>NaN</td>\n",
       "    </tr>\n",
       "    <tr>\n",
       "      <th>2024</th>\n",
       "      <td>NaN</td>\n",
       "      <td>NaN</td>\n",
       "      <td>NaN</td>\n",
       "      <td>NaN</td>\n",
       "      <td>NaN</td>\n",
       "      <td>NaN</td>\n",
       "      <td>NaN</td>\n",
       "      <td>NaN</td>\n",
       "      <td>NaN</td>\n",
       "      <td>27.943000</td>\n",
       "      <td>...</td>\n",
       "      <td>NaN</td>\n",
       "      <td>NaN</td>\n",
       "      <td>NaN</td>\n",
       "      <td>NaN</td>\n",
       "      <td>NaN</td>\n",
       "      <td>NaN</td>\n",
       "      <td>NaN</td>\n",
       "      <td>NaN</td>\n",
       "      <td>NaN</td>\n",
       "      <td>NaN</td>\n",
       "    </tr>\n",
       "    <tr>\n",
       "      <th>2026</th>\n",
       "      <td>NaN</td>\n",
       "      <td>NaN</td>\n",
       "      <td>NaN</td>\n",
       "      <td>NaN</td>\n",
       "      <td>NaN</td>\n",
       "      <td>NaN</td>\n",
       "      <td>NaN</td>\n",
       "      <td>NaN</td>\n",
       "      <td>NaN</td>\n",
       "      <td>26.491000</td>\n",
       "      <td>...</td>\n",
       "      <td>NaN</td>\n",
       "      <td>NaN</td>\n",
       "      <td>NaN</td>\n",
       "      <td>NaN</td>\n",
       "      <td>NaN</td>\n",
       "      <td>NaN</td>\n",
       "      <td>NaN</td>\n",
       "      <td>NaN</td>\n",
       "      <td>NaN</td>\n",
       "      <td>NaN</td>\n",
       "    </tr>\n",
       "    <tr>\n",
       "      <th>2028</th>\n",
       "      <td>NaN</td>\n",
       "      <td>NaN</td>\n",
       "      <td>NaN</td>\n",
       "      <td>NaN</td>\n",
       "      <td>NaN</td>\n",
       "      <td>NaN</td>\n",
       "      <td>NaN</td>\n",
       "      <td>NaN</td>\n",
       "      <td>NaN</td>\n",
       "      <td>21.346000</td>\n",
       "      <td>...</td>\n",
       "      <td>NaN</td>\n",
       "      <td>NaN</td>\n",
       "      <td>NaN</td>\n",
       "      <td>NaN</td>\n",
       "      <td>NaN</td>\n",
       "      <td>NaN</td>\n",
       "      <td>NaN</td>\n",
       "      <td>NaN</td>\n",
       "      <td>NaN</td>\n",
       "      <td>NaN</td>\n",
       "    </tr>\n",
       "  </tbody>\n",
       "</table>\n",
       "<p>104 rows × 47 columns</p>\n",
       "</div>"
      ],
      "text/plain": [
       "original_language  ar  be  bn  ca  cn  cs  da      de  el         en  ...  sr  \\\n",
       "year                                                                  ...       \n",
       "1902              NaN NaN NaN NaN NaN NaN NaN     NaN NaN        NaN  ... NaN   \n",
       "1920              NaN NaN NaN NaN NaN NaN NaN   9.258 NaN        NaN  ... NaN   \n",
       "1922              NaN NaN NaN NaN NaN NaN NaN  12.428 NaN   9.528000  ... NaN   \n",
       "1923              NaN NaN NaN NaN NaN NaN NaN     NaN NaN  10.377000  ... NaN   \n",
       "1924              NaN NaN NaN NaN NaN NaN NaN     NaN NaN  10.763000  ... NaN   \n",
       "...                ..  ..  ..  ..  ..  ..  ..     ...  ..        ...  ...  ..   \n",
       "2022              NaN NaN NaN NaN NaN NaN NaN     NaN NaN  37.526935  ... NaN   \n",
       "2023              NaN NaN NaN NaN NaN NaN NaN     NaN NaN  42.126625  ... NaN   \n",
       "2024              NaN NaN NaN NaN NaN NaN NaN     NaN NaN  27.943000  ... NaN   \n",
       "2026              NaN NaN NaN NaN NaN NaN NaN     NaN NaN  26.491000  ... NaN   \n",
       "2028              NaN NaN NaN NaN NaN NaN NaN     NaN NaN  21.346000  ... NaN   \n",
       "\n",
       "original_language  sv  ta  te  th  tl  tr  uk  ur  zh  \n",
       "year                                                   \n",
       "1902              NaN NaN NaN NaN NaN NaN NaN NaN NaN  \n",
       "1920              NaN NaN NaN NaN NaN NaN NaN NaN NaN  \n",
       "1922              NaN NaN NaN NaN NaN NaN NaN NaN NaN  \n",
       "1923              NaN NaN NaN NaN NaN NaN NaN NaN NaN  \n",
       "1924              NaN NaN NaN NaN NaN NaN NaN NaN NaN  \n",
       "...                ..  ..  ..  ..  ..  ..  ..  ..  ..  \n",
       "2022              NaN NaN NaN NaN NaN NaN NaN NaN NaN  \n",
       "2023              NaN NaN NaN NaN NaN NaN NaN NaN NaN  \n",
       "2024              NaN NaN NaN NaN NaN NaN NaN NaN NaN  \n",
       "2026              NaN NaN NaN NaN NaN NaN NaN NaN NaN  \n",
       "2028              NaN NaN NaN NaN NaN NaN NaN NaN NaN  \n",
       "\n",
       "[104 rows x 47 columns]"
      ]
     },
     "execution_count": 16,
     "metadata": {},
     "output_type": "execute_result"
    }
   ],
   "source": [
    "column = 'popularity'\n",
    "\n",
    "pop_movies_pvt = pd.pivot_table(popular_moves_df, values=column, index=[\"year\"], columns=[\"original_language\"])\n",
    "pop_movies_pvt"
   ]
  },
  {
   "cell_type": "code",
   "execution_count": 17,
   "metadata": {},
   "outputs": [
    {
     "data": {
      "text/plain": [
       "Text(0.5, 1.0, 'popularity')"
      ]
     },
     "execution_count": 17,
     "metadata": {},
     "output_type": "execute_result"
    },
    {
     "data": {
      "image/png": "[encoded data removed]",
      "text/plain": [
       "<Figure size 1080x720 with 1 Axes>"
      ]
     },
     "metadata": {
      "needs_background": "light"
     },
     "output_type": "display_data"
    }
   ],
   "source": [
    "pop_movies_pvt[['en', 'pl', 'ja', 'ru']].plot(figsize=(15,10))\n",
    "plt.grid()\n",
    "plt.title(column,fontsize=32)"
   ]
  },
  {
   "cell_type": "markdown",
   "metadata": {},
   "source": [
    "### `groupby`"
   ]
  },
  {
   "cell_type": "code",
   "execution_count": 18,
   "metadata": {},
   "outputs": [
    {
     "data": {
      "text/plain": [
       "2028"
      ]
     },
     "execution_count": 18,
     "metadata": {},
     "output_type": "execute_result"
    }
   ],
   "source": [
    "popular_moves_df['year'].max()"
   ]
  },
  {
   "cell_type": "markdown",
   "metadata": {},
   "source": [
    "### In doing a groupby by year, first I will filter the dataset to only include movies that have already been released since there will be data on them — this dataset includes movies with a future release date up until 2028."
   ]
  },
  {
   "cell_type": "code",
   "execution_count": 19,
   "metadata": {
    "scrolled": false
   },
   "outputs": [
    {
     "data": {
      "text/html": [
       "<div>\n",
       "<style scoped>\n",
       "    .dataframe tbody tr th:only-of-type {\n",
       "        vertical-align: middle;\n",
       "    }\n",
       "\n",
       "    .dataframe tbody tr th {\n",
       "        vertical-align: top;\n",
       "    }\n",
       "\n",
       "    .dataframe thead th {\n",
       "        text-align: right;\n",
       "    }\n",
       "</style>\n",
       "<table border=\"1\" class=\"dataframe\">\n",
       "  <thead>\n",
       "    <tr style=\"text-align: right;\">\n",
       "      <th></th>\n",
       "      <th>popularity</th>\n",
       "      <th>vote_average</th>\n",
       "      <th>vote_count</th>\n",
       "      <th>revenue</th>\n",
       "      <th>runtime</th>\n",
       "    </tr>\n",
       "    <tr>\n",
       "      <th>year</th>\n",
       "      <th></th>\n",
       "      <th></th>\n",
       "      <th></th>\n",
       "      <th></th>\n",
       "      <th></th>\n",
       "    </tr>\n",
       "  </thead>\n",
       "  <tbody>\n",
       "    <tr>\n",
       "      <th>1902</th>\n",
       "      <td>12.47</td>\n",
       "      <td>8.00</td>\n",
       "      <td>1223.00</td>\n",
       "      <td>0.00</td>\n",
       "      <td>14.00</td>\n",
       "    </tr>\n",
       "    <tr>\n",
       "      <th>1920</th>\n",
       "      <td>9.26</td>\n",
       "      <td>7.90</td>\n",
       "      <td>1019.00</td>\n",
       "      <td>8811.00</td>\n",
       "      <td>77.00</td>\n",
       "    </tr>\n",
       "    <tr>\n",
       "      <th>1922</th>\n",
       "      <td>10.98</td>\n",
       "      <td>7.40</td>\n",
       "      <td>762.00</td>\n",
       "      <td>9527.00</td>\n",
       "      <td>86.50</td>\n",
       "    </tr>\n",
       "    <tr>\n",
       "      <th>1923</th>\n",
       "      <td>10.38</td>\n",
       "      <td>7.90</td>\n",
       "      <td>303.00</td>\n",
       "      <td>1500000.00</td>\n",
       "      <td>74.00</td>\n",
       "    </tr>\n",
       "    <tr>\n",
       "      <th>1924</th>\n",
       "      <td>10.76</td>\n",
       "      <td>8.20</td>\n",
       "      <td>605.00</td>\n",
       "      <td>0.00</td>\n",
       "      <td>45.00</td>\n",
       "    </tr>\n",
       "    <tr>\n",
       "      <th>...</th>\n",
       "      <td>...</td>\n",
       "      <td>...</td>\n",
       "      <td>...</td>\n",
       "      <td>...</td>\n",
       "      <td>...</td>\n",
       "    </tr>\n",
       "    <tr>\n",
       "      <th>2017</th>\n",
       "      <td>26.67</td>\n",
       "      <td>6.41</td>\n",
       "      <td>1293.41</td>\n",
       "      <td>52030989.66</td>\n",
       "      <td>100.69</td>\n",
       "    </tr>\n",
       "    <tr>\n",
       "      <th>2018</th>\n",
       "      <td>26.45</td>\n",
       "      <td>6.43</td>\n",
       "      <td>1119.11</td>\n",
       "      <td>49490763.83</td>\n",
       "      <td>101.15</td>\n",
       "    </tr>\n",
       "    <tr>\n",
       "      <th>2019</th>\n",
       "      <td>29.29</td>\n",
       "      <td>6.65</td>\n",
       "      <td>976.17</td>\n",
       "      <td>48834697.28</td>\n",
       "      <td>101.42</td>\n",
       "    </tr>\n",
       "    <tr>\n",
       "      <th>2020</th>\n",
       "      <td>39.58</td>\n",
       "      <td>6.56</td>\n",
       "      <td>526.52</td>\n",
       "      <td>9107084.79</td>\n",
       "      <td>95.46</td>\n",
       "    </tr>\n",
       "    <tr>\n",
       "      <th>2021</th>\n",
       "      <td>121.00</td>\n",
       "      <td>5.06</td>\n",
       "      <td>230.93</td>\n",
       "      <td>10195002.79</td>\n",
       "      <td>83.46</td>\n",
       "    </tr>\n",
       "  </tbody>\n",
       "</table>\n",
       "<p>99 rows × 5 columns</p>\n",
       "</div>"
      ],
      "text/plain": [
       "      popularity  vote_average  vote_count      revenue  runtime\n",
       "year                                                            \n",
       "1902       12.47          8.00     1223.00         0.00    14.00\n",
       "1920        9.26          7.90     1019.00      8811.00    77.00\n",
       "1922       10.98          7.40      762.00      9527.00    86.50\n",
       "1923       10.38          7.90      303.00   1500000.00    74.00\n",
       "1924       10.76          8.20      605.00         0.00    45.00\n",
       "...          ...           ...         ...          ...      ...\n",
       "2017       26.67          6.41     1293.41  52030989.66   100.69\n",
       "2018       26.45          6.43     1119.11  49490763.83   101.15\n",
       "2019       29.29          6.65      976.17  48834697.28   101.42\n",
       "2020       39.58          6.56      526.52   9107084.79    95.46\n",
       "2021      121.00          5.06      230.93  10195002.79    83.46\n",
       "\n",
       "[99 rows x 5 columns]"
      ]
     },
     "execution_count": 19,
     "metadata": {},
     "output_type": "execute_result"
    }
   ],
   "source": [
    "released_df = popular_moves_df[popular_moves_df['year'] <= 2021]\n",
    "released_df.groupby(['year']).mean().round(2).drop(\"id\", axis=1)"
   ]
  },
  {
   "cell_type": "markdown",
   "metadata": {},
   "source": [
    "### `discussion`"
   ]
  },
  {
   "cell_type": "markdown",
   "metadata": {},
   "source": [
    "- Based on the columns of the dataset, the first piece of analysis I did was seeing if there were any movies in the dataset that share the same name. Answering this question only required a .nunique() call on the original_title column, to find out there were 244 movies with the same original titile. \n",
    "- The first plot I made was to visualize the popularity of movies by their original language. I expected English to be the most popular by far, since IMDB is an English/American company, and the plot confirmed this. \n",
    "- I was then interested to see which languages of movies are popular in the U.S., after English. To answer this question I filtered the dataframe by if the item in the original_language column was not English, and replotted. The resulting plot showed that the next 3 most popular movie languages were Japanese, Polish, and Portuguese. I expected the next most popular language to be Japanese given the recent rise of Anime popularity, but I was expecting the next popular language to be Spanish, so the Polish and Portuguese was interesting.\n",
    "- I also made a simple histogram of the release_date column, which confirmed by expectation that there are many more movies in this IMDB dataset in more recent years. In particular, we see a steep increase around the year 2000 of movies in the dataset. This makes sense with the rise of popular culture and an increase in movie technology.\n",
    "- For the pivot table, the column which was used for the statistical summary was popularity, the index was release year, and the column used for aggregating the values was original_language.\n",
    "- I chose the English, Japanese, Polish, and Russian columns to plot from the pivot table. The plot shows the rise in popularity of the non-English movies around the mid 2000s, which makes sense. We see the rise of popularity of Japenese movies was much earlier than the other non-English language movies.\n",
    "- I used the groupby feature to group by 'year', and took the mean of the other columns. From this, we can see the average popularity and revenue were generally higher for movies released in more recent years than in the earlier years around the early 1900s. We can also see an increase in the average runtime of more recent movies, which also makes sense with the rise of more advanced movie technology."
   ]
  }
 ],
 "metadata": {
  "kernelspec": {
   "display_name": "Python 3",
   "language": "python",
   "name": "python3"
  },
  "language_info": {
   "codemirror_mode": {
    "name": "ipython",
    "version": 3
   },
   "file_extension": ".py",
   "mimetype": "text/x-python",
   "name": "python",
   "nbconvert_exporter": "python",
   "pygments_lexer": "ipython3",
   "version": "3.8.5"
  }
 },
 "nbformat": 4,
 "nbformat_minor": 4
}
